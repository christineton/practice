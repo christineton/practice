{
 "cells": [
  {
   "cell_type": "code",
   "execution_count": 2,
   "metadata": {},
   "outputs": [],
   "source": [
    "# Dependencies\n",
    "import csv\n",
    "import matplotlib.pyplot as plt\n",
    "import openweathermapy as ow\n",
    "import pandas as pd\n",
    "\n",
    "# import api_key from config file\n",
    "from config import api_key"
   ]
  },
  {
   "cell_type": "code",
   "execution_count": 3,
   "metadata": {},
   "outputs": [],
   "source": [
    "# Create a settings object with your API key and preferred units\n",
    "settings = {\"units\": \"metrics\", \"appid\": api_key}"
   ]
  },
  {
   "cell_type": "code",
   "execution_count": 4,
   "metadata": {},
   "outputs": [],
   "source": [
    "# Get data for each city in cities.csv\n",
    "weather_data = []\n",
    "with open(\"../Resources/cities.csv\") as cities_file:\n",
    "    cities_reader = csv.reader(cities_file)\n",
    "    cities = [city[0] for city in cities_reader]\n",
    "    weather_data = [ow.get_current(city, **settings) for city in cities]"
   ]
  },
  {
   "cell_type": "code",
   "execution_count": 5,
   "metadata": {},
   "outputs": [
    {
     "data": {
      "text/html": [
       "<div>\n",
       "<style scoped>\n",
       "    .dataframe tbody tr th:only-of-type {\n",
       "        vertical-align: middle;\n",
       "    }\n",
       "\n",
       "    .dataframe tbody tr th {\n",
       "        vertical-align: top;\n",
       "    }\n",
       "\n",
       "    .dataframe thead th {\n",
       "        text-align: right;\n",
       "    }\n",
       "</style>\n",
       "<table border=\"1\" class=\"dataframe\">\n",
       "  <thead>\n",
       "    <tr style=\"text-align: right;\">\n",
       "      <th></th>\n",
       "      <th>0</th>\n",
       "      <th>1</th>\n",
       "      <th>2</th>\n",
       "    </tr>\n",
       "  </thead>\n",
       "  <tbody>\n",
       "    <tr>\n",
       "      <th>Paris</th>\n",
       "      <td>282.76</td>\n",
       "      <td>48.86</td>\n",
       "      <td>2.35</td>\n",
       "    </tr>\n",
       "    <tr>\n",
       "      <th>London</th>\n",
       "      <td>287.76</td>\n",
       "      <td>51.51</td>\n",
       "      <td>-0.13</td>\n",
       "    </tr>\n",
       "    <tr>\n",
       "      <th>Oslo</th>\n",
       "      <td>286.15</td>\n",
       "      <td>59.91</td>\n",
       "      <td>10.74</td>\n",
       "    </tr>\n",
       "    <tr>\n",
       "      <th>Beijing</th>\n",
       "      <td>302.15</td>\n",
       "      <td>39.91</td>\n",
       "      <td>116.39</td>\n",
       "    </tr>\n",
       "    <tr>\n",
       "      <th>Moscow</th>\n",
       "      <td>288.39</td>\n",
       "      <td>55.75</td>\n",
       "      <td>37.62</td>\n",
       "    </tr>\n",
       "    <tr>\n",
       "      <th>Vladivostok</th>\n",
       "      <td>296.15</td>\n",
       "      <td>43.12</td>\n",
       "      <td>131.89</td>\n",
       "    </tr>\n",
       "    <tr>\n",
       "      <th>Osaka</th>\n",
       "      <td>304.39</td>\n",
       "      <td>34.70</td>\n",
       "      <td>135.50</td>\n",
       "    </tr>\n",
       "    <tr>\n",
       "      <th>Honolulu</th>\n",
       "      <td>300.20</td>\n",
       "      <td>21.30</td>\n",
       "      <td>-157.86</td>\n",
       "    </tr>\n",
       "    <tr>\n",
       "      <th>Montevideo</th>\n",
       "      <td>290.39</td>\n",
       "      <td>44.94</td>\n",
       "      <td>-95.72</td>\n",
       "    </tr>\n",
       "    <tr>\n",
       "      <th>Erbil</th>\n",
       "      <td>300.15</td>\n",
       "      <td>36.19</td>\n",
       "      <td>44.01</td>\n",
       "    </tr>\n",
       "  </tbody>\n",
       "</table>\n",
       "</div>"
      ],
      "text/plain": [
       "                  0      1       2\n",
       "Paris        282.76  48.86    2.35\n",
       "London       287.76  51.51   -0.13\n",
       "Oslo         286.15  59.91   10.74\n",
       "Beijing      302.15  39.91  116.39\n",
       "Moscow       288.39  55.75   37.62\n",
       "Vladivostok  296.15  43.12  131.89\n",
       "Osaka        304.39  34.70  135.50\n",
       "Honolulu     300.20  21.30 -157.86\n",
       "Montevideo   290.39  44.94  -95.72\n",
       "Erbil        300.15  36.19   44.01"
      ]
     },
     "execution_count": 5,
     "metadata": {},
     "output_type": "execute_result"
    }
   ],
   "source": [
    "# Create an \"extracts\" object to get the temperature, latitude,\n",
    "# and longitude in each city\n",
    "summary = [\"main.temp\", \"coord.lat\", \"coord.lon\"]\n",
    "\n",
    "# Create a Pandas DataFrame with the results\n",
    "data = [response(*summary) for response in weather_data]\n",
    "\n",
    "weather_data = pd.DataFrame(data, index=cities)\n",
    "weather_data"
   ]
  }
 ],
 "metadata": {
  "kernelspec": {
   "display_name": "Python 3",
   "language": "python",
   "name": "python3"
  },
  "language_info": {
   "codemirror_mode": {
    "name": "ipython",
    "version": 3
   },
   "file_extension": ".py",
   "mimetype": "text/x-python",
   "name": "python",
   "nbconvert_exporter": "python",
   "pygments_lexer": "ipython3",
   "version": "3.6.5"
  },
  "varInspector": {
   "cols": {
    "lenName": 16,
    "lenType": 16,
    "lenVar": 40
   },
   "kernels_config": {
    "python": {
     "delete_cmd_postfix": "",
     "delete_cmd_prefix": "del ",
     "library": "var_list.py",
     "varRefreshCmd": "print(var_dic_list())"
    },
    "r": {
     "delete_cmd_postfix": ") ",
     "delete_cmd_prefix": "rm(",
     "library": "var_list.r",
     "varRefreshCmd": "cat(var_dic_list()) "
    }
   },
   "types_to_exclude": [
    "module",
    "function",
    "builtin_function_or_method",
    "instance",
    "_Feature"
   ],
   "window_display": false
  }
 },
 "nbformat": 4,
 "nbformat_minor": 2
}
