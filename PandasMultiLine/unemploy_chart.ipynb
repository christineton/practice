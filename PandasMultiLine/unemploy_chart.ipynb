{
 "cells": [
  {
   "cell_type": "code",
   "execution_count": 1,
   "metadata": {},
   "outputs": [],
   "source": [
    "# Dependencies\n",
    "import matplotlib.pyplot as plt\n",
    "import numpy as np\n",
    "import pandas as pd"
   ]
  },
  {
   "cell_type": "code",
   "execution_count": 18,
   "metadata": {},
   "outputs": [
    {
     "data": {
      "text/html": [
       "<div>\n",
       "<style scoped>\n",
       "    .dataframe tbody tr th:only-of-type {\n",
       "        vertical-align: middle;\n",
       "    }\n",
       "\n",
       "    .dataframe tbody tr th {\n",
       "        vertical-align: top;\n",
       "    }\n",
       "\n",
       "    .dataframe thead th {\n",
       "        text-align: right;\n",
       "    }\n",
       "</style>\n",
       "<table border=\"1\" class=\"dataframe\">\n",
       "  <thead>\n",
       "    <tr style=\"text-align: right;\">\n",
       "      <th></th>\n",
       "      <th>Country Name</th>\n",
       "      <th>Country Code_x</th>\n",
       "      <th>2010</th>\n",
       "      <th>2011</th>\n",
       "      <th>Country Code_y</th>\n",
       "      <th>2012</th>\n",
       "      <th>2013</th>\n",
       "      <th>2014</th>\n",
       "    </tr>\n",
       "  </thead>\n",
       "  <tbody>\n",
       "    <tr>\n",
       "      <th>0</th>\n",
       "      <td>Afghanistan</td>\n",
       "      <td>AFG</td>\n",
       "      <td>20.600000</td>\n",
       "      <td>20.900000</td>\n",
       "      <td>AFG</td>\n",
       "      <td>19.700001</td>\n",
       "      <td>21.100000</td>\n",
       "      <td>20.799999</td>\n",
       "    </tr>\n",
       "    <tr>\n",
       "      <th>1</th>\n",
       "      <td>Angola</td>\n",
       "      <td>AGO</td>\n",
       "      <td>10.800000</td>\n",
       "      <td>10.700000</td>\n",
       "      <td>AGO</td>\n",
       "      <td>10.700000</td>\n",
       "      <td>10.600000</td>\n",
       "      <td>10.500000</td>\n",
       "    </tr>\n",
       "    <tr>\n",
       "      <th>2</th>\n",
       "      <td>Albania</td>\n",
       "      <td>ALB</td>\n",
       "      <td>25.799999</td>\n",
       "      <td>27.000000</td>\n",
       "      <td>ALB</td>\n",
       "      <td>28.299999</td>\n",
       "      <td>28.700001</td>\n",
       "      <td>29.200001</td>\n",
       "    </tr>\n",
       "    <tr>\n",
       "      <th>3</th>\n",
       "      <td>Arab World</td>\n",
       "      <td>ARB</td>\n",
       "      <td>25.022214</td>\n",
       "      <td>28.117516</td>\n",
       "      <td>ARB</td>\n",
       "      <td>29.113212</td>\n",
       "      <td>29.335306</td>\n",
       "      <td>29.704569</td>\n",
       "    </tr>\n",
       "    <tr>\n",
       "      <th>4</th>\n",
       "      <td>United Arab Emirates</td>\n",
       "      <td>ARE</td>\n",
       "      <td>9.800000</td>\n",
       "      <td>9.800000</td>\n",
       "      <td>ARE</td>\n",
       "      <td>9.800000</td>\n",
       "      <td>9.900000</td>\n",
       "      <td>10.000000</td>\n",
       "    </tr>\n",
       "  </tbody>\n",
       "</table>\n",
       "</div>"
      ],
      "text/plain": [
       "           Country Name Country Code_x       2010       2011 Country Code_y  \\\n",
       "0           Afghanistan            AFG  20.600000  20.900000            AFG   \n",
       "1                Angola            AGO  10.800000  10.700000            AGO   \n",
       "2               Albania            ALB  25.799999  27.000000            ALB   \n",
       "3            Arab World            ARB  25.022214  28.117516            ARB   \n",
       "4  United Arab Emirates            ARE   9.800000   9.800000            ARE   \n",
       "\n",
       "        2012       2013       2014  \n",
       "0  19.700001  21.100000  20.799999  \n",
       "1  10.700000  10.600000  10.500000  \n",
       "2  28.299999  28.700001  29.200001  \n",
       "3  29.113212  29.335306  29.704569  \n",
       "4   9.800000   9.900000  10.000000  "
      ]
     },
     "execution_count": 18,
     "metadata": {},
     "output_type": "execute_result"
    }
   ],
   "source": [
    "# Read CSV\n",
    "unemployed_data_one = pd.read_csv(\"../Resources/unemployment_2010-2011.csv\")\n",
    "unemployed_data_two = pd.read_csv(\"../Resources/unemployment_2012-2014.csv\")\n",
    "\n",
    "# Merge our two data frames together\n",
    "combined_unemployed_data = pd.merge(unemployed_data_one, unemployed_data_two, on=\"Country Name\")\n",
    "combined_unemployed_data.head()"
   ]
  },
  {
   "cell_type": "code",
   "execution_count": 19,
   "metadata": {},
   "outputs": [
    {
     "data": {
      "text/html": [
       "<div>\n",
       "<style scoped>\n",
       "    .dataframe tbody tr th:only-of-type {\n",
       "        vertical-align: middle;\n",
       "    }\n",
       "\n",
       "    .dataframe tbody tr th {\n",
       "        vertical-align: top;\n",
       "    }\n",
       "\n",
       "    .dataframe thead th {\n",
       "        text-align: right;\n",
       "    }\n",
       "</style>\n",
       "<table border=\"1\" class=\"dataframe\">\n",
       "  <thead>\n",
       "    <tr style=\"text-align: right;\">\n",
       "      <th></th>\n",
       "      <th>Country Name</th>\n",
       "      <th>Country Code</th>\n",
       "      <th>2010</th>\n",
       "      <th>2011</th>\n",
       "      <th>2012</th>\n",
       "      <th>2013</th>\n",
       "      <th>2014</th>\n",
       "    </tr>\n",
       "  </thead>\n",
       "  <tbody>\n",
       "    <tr>\n",
       "      <th>0</th>\n",
       "      <td>Afghanistan</td>\n",
       "      <td>AFG</td>\n",
       "      <td>20.600000</td>\n",
       "      <td>20.900000</td>\n",
       "      <td>19.700001</td>\n",
       "      <td>21.100000</td>\n",
       "      <td>20.799999</td>\n",
       "    </tr>\n",
       "    <tr>\n",
       "      <th>1</th>\n",
       "      <td>Angola</td>\n",
       "      <td>AGO</td>\n",
       "      <td>10.800000</td>\n",
       "      <td>10.700000</td>\n",
       "      <td>10.700000</td>\n",
       "      <td>10.600000</td>\n",
       "      <td>10.500000</td>\n",
       "    </tr>\n",
       "    <tr>\n",
       "      <th>2</th>\n",
       "      <td>Albania</td>\n",
       "      <td>ALB</td>\n",
       "      <td>25.799999</td>\n",
       "      <td>27.000000</td>\n",
       "      <td>28.299999</td>\n",
       "      <td>28.700001</td>\n",
       "      <td>29.200001</td>\n",
       "    </tr>\n",
       "    <tr>\n",
       "      <th>3</th>\n",
       "      <td>Arab World</td>\n",
       "      <td>ARB</td>\n",
       "      <td>25.022214</td>\n",
       "      <td>28.117516</td>\n",
       "      <td>29.113212</td>\n",
       "      <td>29.335306</td>\n",
       "      <td>29.704569</td>\n",
       "    </tr>\n",
       "    <tr>\n",
       "      <th>4</th>\n",
       "      <td>United Arab Emirates</td>\n",
       "      <td>ARE</td>\n",
       "      <td>9.800000</td>\n",
       "      <td>9.800000</td>\n",
       "      <td>9.800000</td>\n",
       "      <td>9.900000</td>\n",
       "      <td>10.000000</td>\n",
       "    </tr>\n",
       "  </tbody>\n",
       "</table>\n",
       "</div>"
      ],
      "text/plain": [
       "           Country Name Country Code       2010       2011       2012  \\\n",
       "0           Afghanistan          AFG  20.600000  20.900000  19.700001   \n",
       "1                Angola          AGO  10.800000  10.700000  10.700000   \n",
       "2               Albania          ALB  25.799999  27.000000  28.299999   \n",
       "3            Arab World          ARB  25.022214  28.117516  29.113212   \n",
       "4  United Arab Emirates          ARE   9.800000   9.800000   9.800000   \n",
       "\n",
       "        2013       2014  \n",
       "0  21.100000  20.799999  \n",
       "1  10.600000  10.500000  \n",
       "2  28.700001  29.200001  \n",
       "3  29.335306  29.704569  \n",
       "4   9.900000  10.000000  "
      ]
     },
     "execution_count": 19,
     "metadata": {},
     "output_type": "execute_result"
    }
   ],
   "source": [
    "# Delete the duplicate 'Country Code' column and rename the first one back to 'Country Code'\n",
    "del combined_unemployed_data['Country Code_y']\n",
    "combined_unemployed_data = combined_unemployed_data.rename(columns={\"Country Code_x\":\"Country Code\"})\n",
    "combined_unemployed_data.head()"
   ]
  },
  {
   "cell_type": "code",
   "execution_count": 20,
   "metadata": {},
   "outputs": [],
   "source": [
    "# Set the 'Country Code' to be our index for easy referencing of rows\n",
    "combined_unemployed_data = combined_unemployed_data.set_index(\"Country Code\")"
   ]
  },
  {
   "cell_type": "code",
   "execution_count": 21,
   "metadata": {},
   "outputs": [
    {
     "data": {
      "text/plain": [
       "Index(['2010', '2011', '2012', '2013', '2014'], dtype='object')"
      ]
     },
     "execution_count": 21,
     "metadata": {},
     "output_type": "execute_result"
    }
   ],
   "source": [
    "# Collect the mean unemployment rates for the world\n",
    "average_unemployment = combined_unemployed_data.mean()\n",
    "\n",
    "# Collect the years where data was collected\n",
    "years = average_unemployment.keys()\n",
    "years"
   ]
  },
  {
   "cell_type": "code",
   "execution_count": 22,
   "metadata": {},
   "outputs": [
    {
     "data": {
      "image/png": "[encoded data removed]",
      "text/plain": [
       "<Figure size 432x288 with 1 Axes>"
      ]
     },
     "metadata": {},
     "output_type": "display_data"
    }
   ],
   "source": [
    "# Plot the world average as a line chart\n",
    "world_avg, = plt.plot(years, average_unemployment, color=\"blue\", label=\"World Average\" )\n",
    "\n",
    "# Plot the unemployment values for a single country\n",
    "country_one, = plt.plot(years, combined_unemployed_data.loc['USA',[\"2010\",\"2011\",\"2012\",\"2013\",\"2014\"]], \n",
    "                        color=\"green\",label=combined_unemployed_data.loc['USA',\"Country Name\"])\n",
    "\n",
    "# Create a legend for our chart\n",
    "plt.legend(handles=[world_avg, country_one], loc=\"best\")\n",
    "\n",
    "# Show the chart\n",
    "plt.show()"
   ]
  },
  {
   "cell_type": "code",
   "execution_count": 23,
   "metadata": {},
   "outputs": [
    {
     "data": {
      "image/png": "[encoded data removed]",
      "text/plain": [
       "<Figure size 432x288 with 1 Axes>"
      ]
     },
     "metadata": {},
     "output_type": "display_data"
    }
   ],
   "source": [
    "average_unemployment.plot(label=\"World Average\")\n",
    "combined_unemployed_data.loc['USA', \"2010\":\"2014\"].plot(label=\"United States\")\n",
    "plt.legend()\n",
    "plt.show()"
   ]
  },
  {
   "cell_type": "code",
   "execution_count": null,
   "metadata": {
    "collapsed": true
   },
   "outputs": [],
   "source": []
  }
 ],
 "metadata": {
  "kernelspec": {
   "display_name": "Python 3",
   "language": "python",
   "name": "python3"
  },
  "language_info": {
   "codemirror_mode": {
    "name": "ipython",
    "version": 3
   },
   "file_extension": ".py",
   "mimetype": "text/x-python",
   "name": "python",
   "nbconvert_exporter": "python",
   "pygments_lexer": "ipython3",
   "version": "3.6.5"
  }
 },
 "nbformat": 4,
 "nbformat_minor": 2
}
